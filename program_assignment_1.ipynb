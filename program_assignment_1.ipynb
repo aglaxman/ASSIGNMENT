{
 "cells": [
  {
   "cell_type": "code",
   "execution_count": 10,
   "metadata": {},
   "outputs": [
    {
     "name": "stdout",
     "output_type": "stream",
     "text": [
      "hello world!\n"
     ]
    }
   ],
   "source": [
    "# qn=1\n",
    "print(\"hello world!\")"
   ]
  },
  {
   "cell_type": "code",
   "execution_count": 11,
   "metadata": {},
   "outputs": [
    {
     "name": "stdout",
     "output_type": "stream",
     "text": [
      "Additon of numbers is : 9.0\n",
      "Division of numbers is : 3.5\n"
     ]
    }
   ],
   "source": [
    "# qn=2\n",
    "a=float(input(\"Enter the value of A \"))\n",
    "b=float(input(\"Enter the value of B \"))\n",
    "print(\"Additon of numbers is :\",a+b)\n",
    "print(\"Division of numbers is :\",a/b)"
   ]
  },
  {
   "cell_type": "code",
   "execution_count": 12,
   "metadata": {},
   "outputs": [
    {
     "name": "stdout",
     "output_type": "stream",
     "text": [
      "area if triangle is :  3.0\n"
     ]
    }
   ],
   "source": [
    "# qn=3\n",
    "a=float(input(\"Enter the value of height \"))\n",
    "b=float(input(\"Enter the value of base\"))\n",
    "area=0.5*(a*b)\n",
    "print(\"area if triangle is : \" ,area)"
   ]
  },
  {
   "cell_type": "code",
   "execution_count": 21,
   "metadata": {},
   "outputs": [
    {
     "name": "stdout",
     "output_type": "stream",
     "text": [
      "value of X after swappinng is :  34\n",
      "value of Y after swappinng is :  10\n"
     ]
    }
   ],
   "source": [
    "# qn=4\n",
    "x=10\n",
    "y=34\n",
    "x,y=y,x\n",
    "print(\"value of X after swappinng is : \",x)\n",
    "print(\"value of Y after swappinng is : \",y)"
   ]
  },
  {
   "cell_type": "code",
   "execution_count": 38,
   "metadata": {},
   "outputs": [
    {
     "name": "stdout",
     "output_type": "stream",
     "text": [
      "193\n"
     ]
    }
   ],
   "source": [
    "# qn=5\n",
    "import random\n",
    "num=random.randrange(100,200)\n",
    "print(num)"
   ]
  }
 ],
 "metadata": {
  "kernelspec": {
   "display_name": "Python 3.10.7 64-bit (microsoft store)",
   "language": "python",
   "name": "python3"
  },
  "language_info": {
   "codemirror_mode": {
    "name": "ipython",
    "version": 3
   },
   "file_extension": ".py",
   "mimetype": "text/x-python",
   "name": "python",
   "nbconvert_exporter": "python",
   "pygments_lexer": "ipython3",
   "version": "3.10.7"
  },
  "orig_nbformat": 4,
  "vscode": {
   "interpreter": {
    "hash": "f03c1f92f8008d1e912d31b0d055bf5caa90187be258b19dbd5d5d100d20d019"
   }
  }
 },
 "nbformat": 4,
 "nbformat_minor": 2
}
