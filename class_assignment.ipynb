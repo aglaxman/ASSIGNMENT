{
 "cells": [
  {
   "cell_type": "markdown",
   "metadata": {},
   "source": [
    "1.What is indentation error? Why indentation is important? Give one simple example?\n",
    "ANS : \"IndentationError : expected an indented block\" will show when there is a blank space needed or if you just have a improper indentation , the code will not complie and it will return with indentation error.\n",
    "Like in any other programming language blank space is just given for reader frienly but in the case of 'Python' the indentation is an essential and should be followed when writing a python code, otherwise it will give IndentationError. Python treats the statements with the equal number of blankspaces before them as a single code block, where as in C,C++,JAVA {} are used to define code block."
   ]
  },
  {
   "cell_type": "code",
   "execution_count": 1,
   "metadata": {},
   "outputs": [
    {
     "ename": "IndentationError",
     "evalue": "expected an indented block after 'if' statement on line 3 (54465507.py, line 4)",
     "output_type": "error",
     "traceback": [
      "\u001b[1;36m  Cell \u001b[1;32mIn [1], line 4\u001b[1;36m\u001b[0m\n\u001b[1;33m    print(\"Concentrate on class\")\u001b[0m\n\u001b[1;37m    ^\u001b[0m\n\u001b[1;31mIndentationError\u001b[0m\u001b[1;31m:\u001b[0m expected an indented block after 'if' statement on line 3\n"
     ]
    }
   ],
   "source": [
    "# with INDENTATION\n",
    "live_class = True\n",
    "if live_class:\n",
    "print(\"Concentrate on class\")\n",
    "else:\n",
    "  print(\"Do revision\")"
   ]
  },
  {
   "cell_type": "code",
   "execution_count": 2,
   "metadata": {},
   "outputs": [
    {
     "name": "stdout",
     "output_type": "stream",
     "text": [
      "Concentrate on class\n"
     ]
    }
   ],
   "source": [
    "# without INDENTATION\n",
    "live_class = True\n",
    "if live_class:\n",
    " print(\"Concentrate on class\")\n",
    "else:\n",
    "  print(\"Do revision\")"
   ]
  },
  {
   "cell_type": "markdown",
   "metadata": {},
   "source": [
    "2.Correct the following code and write the comment where you made the correction?"
   ]
  },
  {
   "cell_type": "code",
   "execution_count": 3,
   "metadata": {},
   "outputs": [
    {
     "name": "stdout",
     "output_type": "stream",
     "text": [
      "Since class is not started...\n",
      "let's revise\n"
     ]
    }
   ],
   "source": [
    "class_started = bool(int(input(\"Hey friend, is class started?: [0-False/1-True]\"))) # need to add int datatype because without it will take string and anything in boolen, its true condition\n",
    "\n",
    "if class_started:\n",
    "   print(\"Since class started...\")\n",
    "   print(\"Lets concentrate\")\n",
    "else:\n",
    "   print(\"Since class is not started...\")\n",
    "   print(\"let's revise\") "
   ]
  },
  {
   "cell_type": "markdown",
   "metadata": {},
   "source": [
    "3.Use if else condition to verify that dataype of input() method in python is always string"
   ]
  },
  {
   "cell_type": "code",
   "execution_count": 5,
   "metadata": {},
   "outputs": [
    {
     "name": "stdout",
     "output_type": "stream",
     "text": [
      "enter input is string\n"
     ]
    }
   ],
   "source": [
    " A= input()\n",
    " if type(A)==str:\n",
    "   print(\"enter input is string\")\n",
    " else:\n",
    "   print(\"please enter string value\")"
   ]
  },
  {
   "cell_type": "markdown",
   "metadata": {},
   "source": [
    "4.Take 3 variables and assign integer values to them. Find the largest variable, by only using the if and else conditions"
   ]
  },
  {
   "cell_type": "code",
   "execution_count": 6,
   "metadata": {},
   "outputs": [
    {
     "name": "stdout",
     "output_type": "stream",
     "text": [
      "A is largest\n"
     ]
    }
   ],
   "source": [
    "A, B, C = 95, 73, 10\n",
    "if A>B:\n",
    "  if A>C:\n",
    "    print('A is largest')\n",
    "  else:\n",
    "    print('C is largest')\n",
    "else:\n",
    "  if B>C:\n",
    "    print('B is largest')\n",
    "  else:\n",
    "    print('C is largest')"
   ]
  },
  {
   "cell_type": "markdown",
   "metadata": {},
   "source": [
    "5.What would be the solution?"
   ]
  },
  {
   "cell_type": "code",
   "execution_count": 7,
   "metadata": {},
   "outputs": [
    {
     "name": "stdout",
     "output_type": "stream",
     "text": [
      "False\n"
     ]
    }
   ],
   "source": [
    "a = 6\n",
    "b = 10\n",
    "print( not ( not a == 10 or not b == 10) )"
   ]
  },
  {
   "cell_type": "markdown",
   "metadata": {},
   "source": [
    "6. Find the answer as well as find out the reason behind the result?\n",
    "\n",
    "ANS:The \"is\" keyword is used to test if the 2 variables refer to same object, the test will return 'true' if the 2 object are the same object otherwise the test will return 'flase' if they are not the same object even though they are looking 100% similar."
   ]
  },
  {
   "cell_type": "code",
   "execution_count": 8,
   "metadata": {},
   "outputs": [
    {
     "name": "stdout",
     "output_type": "stream",
     "text": [
      "False\n"
     ]
    }
   ],
   "source": [
    "  A = 5.0\n",
    "  B = 10/2\n",
    "  print(A is B)"
   ]
  },
  {
   "cell_type": "code",
   "execution_count": 9,
   "metadata": {},
   "outputs": [
    {
     "name": "stdout",
     "output_type": "stream",
     "text": [
      "False\n"
     ]
    }
   ],
   "source": [
    "  A = 5.0\n",
    "  B = int(10/2)\n",
    "  print(A is B)"
   ]
  },
  {
   "cell_type": "code",
   "execution_count": 10,
   "metadata": {},
   "outputs": [
    {
     "name": "stdout",
     "output_type": "stream",
     "text": [
      "False\n"
     ]
    }
   ],
   "source": [
    "  A = 5.0\n",
    "  B = float(10/2)\n",
    "  print(A is B)"
   ]
  },
  {
   "cell_type": "markdown",
   "metadata": {},
   "source": [
    "7.Write a program that asks the user to enter a number. You should print out a message to the user, either “That number is divisible by either 3 or 5”, or “That number is not divisible by either 3 or 5”. Be sure to consider the data type of the input you are taking in from the user. Use a single if/else block to solve this problem."
   ]
  },
  {
   "cell_type": "code",
   "execution_count": 11,
   "metadata": {},
   "outputs": [
    {
     "name": "stdout",
     "output_type": "stream",
     "text": [
      "Number is not divisible by either 3 or 5\n"
     ]
    }
   ],
   "source": [
    "A= int(input(\"Enter the value : \"))\n",
    "if A % 3 == 0 or A % 5 == 0:\n",
    "  print(\"Number is divisible by either 3 or 5\")\n",
    "else:\n",
    "  print(\"Number is not divisible by either 3 or 5\")"
   ]
  },
  {
   "cell_type": "markdown",
   "metadata": {},
   "source": [
    "8.Take user input for length and width. Then calculate the area of rectangle. Also print as per length and width whether its a square of rectangle."
   ]
  },
  {
   "cell_type": "code",
   "execution_count": 12,
   "metadata": {},
   "outputs": [
    {
     "name": "stdout",
     "output_type": "stream",
     "text": [
      "Area of rectangle is : 6.0\n",
      "as per the entered length and width it is RECTANGLE\n"
     ]
    }
   ],
   "source": [
    "A = float(input(\"Enter the value of length : \"))\n",
    "B = float(input(\"Enter the value of width : \"))\n",
    "Area = A * B \n",
    "print(f\"Area of rectangle is : {Area}\")\n",
    "if A == B:\n",
    "  print('as per the entered length and width it is SQUARE')\n",
    "else:\n",
    "  print('as per the entered length and width it is RECTANGLE')"
   ]
  },
  {
   "cell_type": "markdown",
   "metadata": {},
   "source": [
    "9.Take two variable radius_1 and radius_2 and calculate the area of circle_1 and circle_2. Also print which circle has large area. If area is equal then print area is equal"
   ]
  },
  {
   "cell_type": "code",
   "execution_count": 13,
   "metadata": {},
   "outputs": [
    {
     "name": "stdout",
     "output_type": "stream",
     "text": [
      "area of circle_1 : 50.24\n",
      "area of circle_2 : 28.26\n",
      "area of 'circle_1' is greatest\n"
     ]
    }
   ],
   "source": [
    "radius_1 = float(input(\"Enter the radius of circle_1 :\"))\n",
    "radius_2 = float(input(\"Enter the radius of circle_2 :\"))\n",
    "area_1 = 3.14 * (radius_1**2)\n",
    "area_2 = 3.14 * (radius_2**2)\n",
    "print(f\"\"\"area of circle_1 : {area_1}\n",
    "area of circle_2 : {area_2}\"\"\")\n",
    "if area_1 == area_2:\n",
    "  print(\"both circle have equal area\")\n",
    "else:\n",
    "  if area_1 >area_2:\n",
    "    print(\"area of 'circle_1' is greatest\")\n",
    "  else:\n",
    "    print(\"area of 'circle_2' is greatest\")"
   ]
  },
  {
   "cell_type": "markdown",
   "metadata": {},
   "source": [
    "10.Check whether a year is leap year or not. Use nested if...else to solve this problem. A leap year is exactly divisible by 4 except for century years (years ending with 00). The century year is a leap year only if it is perfectly divisible by 400.\n"
   ]
  },
  {
   "cell_type": "code",
   "execution_count": 14,
   "metadata": {},
   "outputs": [
    {
     "name": "stdout",
     "output_type": "stream",
     "text": [
      "Entered year is not a leap year\n"
     ]
    }
   ],
   "source": [
    "year=int(input(\"Enter year : \"))\n",
    "if year % 4 == 0:\n",
    "  if year % 100 == 0:\n",
    "    if year % 400 == 0:\n",
    "      print(\"Entered year is leap year\")\n",
    "    else:\n",
    "      print(\"Entered year is not a leap year\")\n",
    "  else:\n",
    "    print(\"Entered year is leap year\")\n",
    "else:\n",
    "  print(\"Entered year is not a leap year\")"
   ]
  }
 ],
 "metadata": {
  "kernelspec": {
   "display_name": "Python 3.10.7 64-bit (microsoft store)",
   "language": "python",
   "name": "python3"
  },
  "language_info": {
   "codemirror_mode": {
    "name": "ipython",
    "version": 3
   },
   "file_extension": ".py",
   "mimetype": "text/x-python",
   "name": "python",
   "nbconvert_exporter": "python",
   "pygments_lexer": "ipython3",
   "version": "3.10.7"
  },
  "orig_nbformat": 4,
  "vscode": {
   "interpreter": {
    "hash": "f03c1f92f8008d1e912d31b0d055bf5caa90187be258b19dbd5d5d100d20d019"
   }
  }
 },
 "nbformat": 4,
 "nbformat_minor": 2
}
